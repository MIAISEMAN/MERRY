{
 "cells": [
  {
   "cell_type": "markdown",
   "metadata": {},
   "source": [
    "# Module 1 Final Project Submission\n",
    "* Team Name: MERRY! (Mia Iseman & Sherry Yang) \n",
    "* Blog post URL: https://tiny.cc/kbpe5y\n",
    "* Presentation URL: https://tiny.cc/c7oe5y"
   ]
  },
  {
   "cell_type": "markdown",
   "metadata": {},
   "source": [
    "## Goal: \n",
    "## Predict the sale price of properties in King County, WA within a 20% median absolute error\n",
    "\n",
    "## Process\n",
    "1. Business Understanding\n",
    "2. Data Understanding \n",
    "3. Data Preparation\n",
    "4. Modeling\n",
    "5. Evaluation\n",
    "6. Deployment\n",
    "\n",
    "## Business Understanding \n",
    "\n",
    "### Project Context \n",
    "HomeAway, an Airbnb and VRBO competitor was recently acquired by Expedia, whose corporate offices are located in Bellvue, WA. They've given us a set of data from 2014-2015. They would like us to make a model that predicts the property prices, give or take 20%. If we're successful, they will consider hiring us for future consulting projects that deal with more recent data.\n",
    "\n",
    "### Business Needs\n",
    "* HomeAway is considering opening an office in King County. They want to know how much employees will be paying for their homes if they were to relocate. They are also interested in purchasing homes in the area for special event rentals and executive suites. \n",
    "* HomeAway's business model is based on people from all walks of life renting out their homes to strangers. If they are able to tell their customer base a predicted price or profit for using HomeAway, then they can increase business. They can also modify internal budgets, sales strategies, and operations.\n",
    "* HomeAway is interested in any tangential knowledge we gain from features within the data set."
   ]
  },
  {
   "cell_type": "markdown",
   "metadata": {},
   "source": [
    "## Data Understanding "
   ]
  },
  {
   "cell_type": "code",
   "execution_count": 2,
   "metadata": {},
   "outputs": [
    {
     "ename": "FileNotFoundError",
     "evalue": "[Errno 2] File b'kc_house_data.csv' does not exist: b'kc_house_data.csv'",
     "output_type": "error",
     "traceback": [
      "\u001b[0;31m---------------------------------------------------------------------------\u001b[0m",
      "\u001b[0;31mFileNotFoundError\u001b[0m                         Traceback (most recent call last)",
      "\u001b[0;32m<ipython-input-2-3311131f6eda>\u001b[0m in \u001b[0;36m<module>\u001b[0;34m\u001b[0m\n\u001b[1;32m      7\u001b[0m \u001b[0;34m\u001b[0m\u001b[0m\n\u001b[1;32m      8\u001b[0m \u001b[0;31m#read the file as a dataframe\u001b[0m\u001b[0;34m\u001b[0m\u001b[0;34m\u001b[0m\u001b[0;34m\u001b[0m\u001b[0m\n\u001b[0;32m----> 9\u001b[0;31m \u001b[0mkc_df\u001b[0m \u001b[0;34m=\u001b[0m \u001b[0mpd\u001b[0m\u001b[0;34m.\u001b[0m\u001b[0mread_csv\u001b[0m\u001b[0;34m(\u001b[0m\u001b[0;34m'kc_house_data.csv'\u001b[0m\u001b[0;34m)\u001b[0m\u001b[0;34m\u001b[0m\u001b[0;34m\u001b[0m\u001b[0m\n\u001b[0m",
      "\u001b[0;32m~/anaconda3/lib/python3.7/site-packages/pandas/io/parsers.py\u001b[0m in \u001b[0;36mparser_f\u001b[0;34m(filepath_or_buffer, sep, delimiter, header, names, index_col, usecols, squeeze, prefix, mangle_dupe_cols, dtype, engine, converters, true_values, false_values, skipinitialspace, skiprows, skipfooter, nrows, na_values, keep_default_na, na_filter, verbose, skip_blank_lines, parse_dates, infer_datetime_format, keep_date_col, date_parser, dayfirst, iterator, chunksize, compression, thousands, decimal, lineterminator, quotechar, quoting, doublequote, escapechar, comment, encoding, dialect, tupleize_cols, error_bad_lines, warn_bad_lines, delim_whitespace, low_memory, memory_map, float_precision)\u001b[0m\n\u001b[1;32m    700\u001b[0m                     skip_blank_lines=skip_blank_lines)\n\u001b[1;32m    701\u001b[0m \u001b[0;34m\u001b[0m\u001b[0m\n\u001b[0;32m--> 702\u001b[0;31m         \u001b[0;32mreturn\u001b[0m \u001b[0m_read\u001b[0m\u001b[0;34m(\u001b[0m\u001b[0mfilepath_or_buffer\u001b[0m\u001b[0;34m,\u001b[0m \u001b[0mkwds\u001b[0m\u001b[0;34m)\u001b[0m\u001b[0;34m\u001b[0m\u001b[0;34m\u001b[0m\u001b[0m\n\u001b[0m\u001b[1;32m    703\u001b[0m \u001b[0;34m\u001b[0m\u001b[0m\n\u001b[1;32m    704\u001b[0m     \u001b[0mparser_f\u001b[0m\u001b[0;34m.\u001b[0m\u001b[0m__name__\u001b[0m \u001b[0;34m=\u001b[0m \u001b[0mname\u001b[0m\u001b[0;34m\u001b[0m\u001b[0;34m\u001b[0m\u001b[0m\n",
      "\u001b[0;32m~/anaconda3/lib/python3.7/site-packages/pandas/io/parsers.py\u001b[0m in \u001b[0;36m_read\u001b[0;34m(filepath_or_buffer, kwds)\u001b[0m\n\u001b[1;32m    427\u001b[0m \u001b[0;34m\u001b[0m\u001b[0m\n\u001b[1;32m    428\u001b[0m     \u001b[0;31m# Create the parser.\u001b[0m\u001b[0;34m\u001b[0m\u001b[0;34m\u001b[0m\u001b[0;34m\u001b[0m\u001b[0m\n\u001b[0;32m--> 429\u001b[0;31m     \u001b[0mparser\u001b[0m \u001b[0;34m=\u001b[0m \u001b[0mTextFileReader\u001b[0m\u001b[0;34m(\u001b[0m\u001b[0mfilepath_or_buffer\u001b[0m\u001b[0;34m,\u001b[0m \u001b[0;34m**\u001b[0m\u001b[0mkwds\u001b[0m\u001b[0;34m)\u001b[0m\u001b[0;34m\u001b[0m\u001b[0;34m\u001b[0m\u001b[0m\n\u001b[0m\u001b[1;32m    430\u001b[0m \u001b[0;34m\u001b[0m\u001b[0m\n\u001b[1;32m    431\u001b[0m     \u001b[0;32mif\u001b[0m \u001b[0mchunksize\u001b[0m \u001b[0;32mor\u001b[0m \u001b[0miterator\u001b[0m\u001b[0;34m:\u001b[0m\u001b[0;34m\u001b[0m\u001b[0;34m\u001b[0m\u001b[0m\n",
      "\u001b[0;32m~/anaconda3/lib/python3.7/site-packages/pandas/io/parsers.py\u001b[0m in \u001b[0;36m__init__\u001b[0;34m(self, f, engine, **kwds)\u001b[0m\n\u001b[1;32m    893\u001b[0m             \u001b[0mself\u001b[0m\u001b[0;34m.\u001b[0m\u001b[0moptions\u001b[0m\u001b[0;34m[\u001b[0m\u001b[0;34m'has_index_names'\u001b[0m\u001b[0;34m]\u001b[0m \u001b[0;34m=\u001b[0m \u001b[0mkwds\u001b[0m\u001b[0;34m[\u001b[0m\u001b[0;34m'has_index_names'\u001b[0m\u001b[0;34m]\u001b[0m\u001b[0;34m\u001b[0m\u001b[0;34m\u001b[0m\u001b[0m\n\u001b[1;32m    894\u001b[0m \u001b[0;34m\u001b[0m\u001b[0m\n\u001b[0;32m--> 895\u001b[0;31m         \u001b[0mself\u001b[0m\u001b[0;34m.\u001b[0m\u001b[0m_make_engine\u001b[0m\u001b[0;34m(\u001b[0m\u001b[0mself\u001b[0m\u001b[0;34m.\u001b[0m\u001b[0mengine\u001b[0m\u001b[0;34m)\u001b[0m\u001b[0;34m\u001b[0m\u001b[0;34m\u001b[0m\u001b[0m\n\u001b[0m\u001b[1;32m    896\u001b[0m \u001b[0;34m\u001b[0m\u001b[0m\n\u001b[1;32m    897\u001b[0m     \u001b[0;32mdef\u001b[0m \u001b[0mclose\u001b[0m\u001b[0;34m(\u001b[0m\u001b[0mself\u001b[0m\u001b[0;34m)\u001b[0m\u001b[0;34m:\u001b[0m\u001b[0;34m\u001b[0m\u001b[0;34m\u001b[0m\u001b[0m\n",
      "\u001b[0;32m~/anaconda3/lib/python3.7/site-packages/pandas/io/parsers.py\u001b[0m in \u001b[0;36m_make_engine\u001b[0;34m(self, engine)\u001b[0m\n\u001b[1;32m   1120\u001b[0m     \u001b[0;32mdef\u001b[0m \u001b[0m_make_engine\u001b[0m\u001b[0;34m(\u001b[0m\u001b[0mself\u001b[0m\u001b[0;34m,\u001b[0m \u001b[0mengine\u001b[0m\u001b[0;34m=\u001b[0m\u001b[0;34m'c'\u001b[0m\u001b[0;34m)\u001b[0m\u001b[0;34m:\u001b[0m\u001b[0;34m\u001b[0m\u001b[0;34m\u001b[0m\u001b[0m\n\u001b[1;32m   1121\u001b[0m         \u001b[0;32mif\u001b[0m \u001b[0mengine\u001b[0m \u001b[0;34m==\u001b[0m \u001b[0;34m'c'\u001b[0m\u001b[0;34m:\u001b[0m\u001b[0;34m\u001b[0m\u001b[0;34m\u001b[0m\u001b[0m\n\u001b[0;32m-> 1122\u001b[0;31m             \u001b[0mself\u001b[0m\u001b[0;34m.\u001b[0m\u001b[0m_engine\u001b[0m \u001b[0;34m=\u001b[0m \u001b[0mCParserWrapper\u001b[0m\u001b[0;34m(\u001b[0m\u001b[0mself\u001b[0m\u001b[0;34m.\u001b[0m\u001b[0mf\u001b[0m\u001b[0;34m,\u001b[0m \u001b[0;34m**\u001b[0m\u001b[0mself\u001b[0m\u001b[0;34m.\u001b[0m\u001b[0moptions\u001b[0m\u001b[0;34m)\u001b[0m\u001b[0;34m\u001b[0m\u001b[0;34m\u001b[0m\u001b[0m\n\u001b[0m\u001b[1;32m   1123\u001b[0m         \u001b[0;32melse\u001b[0m\u001b[0;34m:\u001b[0m\u001b[0;34m\u001b[0m\u001b[0;34m\u001b[0m\u001b[0m\n\u001b[1;32m   1124\u001b[0m             \u001b[0;32mif\u001b[0m \u001b[0mengine\u001b[0m \u001b[0;34m==\u001b[0m \u001b[0;34m'python'\u001b[0m\u001b[0;34m:\u001b[0m\u001b[0;34m\u001b[0m\u001b[0;34m\u001b[0m\u001b[0m\n",
      "\u001b[0;32m~/anaconda3/lib/python3.7/site-packages/pandas/io/parsers.py\u001b[0m in \u001b[0;36m__init__\u001b[0;34m(self, src, **kwds)\u001b[0m\n\u001b[1;32m   1851\u001b[0m         \u001b[0mkwds\u001b[0m\u001b[0;34m[\u001b[0m\u001b[0;34m'usecols'\u001b[0m\u001b[0;34m]\u001b[0m \u001b[0;34m=\u001b[0m \u001b[0mself\u001b[0m\u001b[0;34m.\u001b[0m\u001b[0musecols\u001b[0m\u001b[0;34m\u001b[0m\u001b[0;34m\u001b[0m\u001b[0m\n\u001b[1;32m   1852\u001b[0m \u001b[0;34m\u001b[0m\u001b[0m\n\u001b[0;32m-> 1853\u001b[0;31m         \u001b[0mself\u001b[0m\u001b[0;34m.\u001b[0m\u001b[0m_reader\u001b[0m \u001b[0;34m=\u001b[0m \u001b[0mparsers\u001b[0m\u001b[0;34m.\u001b[0m\u001b[0mTextReader\u001b[0m\u001b[0;34m(\u001b[0m\u001b[0msrc\u001b[0m\u001b[0;34m,\u001b[0m \u001b[0;34m**\u001b[0m\u001b[0mkwds\u001b[0m\u001b[0;34m)\u001b[0m\u001b[0;34m\u001b[0m\u001b[0;34m\u001b[0m\u001b[0m\n\u001b[0m\u001b[1;32m   1854\u001b[0m         \u001b[0mself\u001b[0m\u001b[0;34m.\u001b[0m\u001b[0munnamed_cols\u001b[0m \u001b[0;34m=\u001b[0m \u001b[0mself\u001b[0m\u001b[0;34m.\u001b[0m\u001b[0m_reader\u001b[0m\u001b[0;34m.\u001b[0m\u001b[0munnamed_cols\u001b[0m\u001b[0;34m\u001b[0m\u001b[0;34m\u001b[0m\u001b[0m\n\u001b[1;32m   1855\u001b[0m \u001b[0;34m\u001b[0m\u001b[0m\n",
      "\u001b[0;32mpandas/_libs/parsers.pyx\u001b[0m in \u001b[0;36mpandas._libs.parsers.TextReader.__cinit__\u001b[0;34m()\u001b[0m\n",
      "\u001b[0;32mpandas/_libs/parsers.pyx\u001b[0m in \u001b[0;36mpandas._libs.parsers.TextReader._setup_parser_source\u001b[0;34m()\u001b[0m\n",
      "\u001b[0;31mFileNotFoundError\u001b[0m: [Errno 2] File b'kc_house_data.csv' does not exist: b'kc_house_data.csv'"
     ]
    }
   ],
   "source": [
    "# import various helpful libraries \n",
    "import pandas as pd   \n",
    "import numpy as np \n",
    "import matplotlib as plt\n",
    "import math as math\n",
    "import seaborn as sns\n",
    "\n",
    "#read the file as a dataframe\n",
    "kc_df = pd.read_csv('kc_house_data.csv')"
   ]
  },
  {
   "cell_type": "code",
   "execution_count": null,
   "metadata": {
    "scrolled": true
   },
   "outputs": [],
   "source": [
    "kc_df.head().T"
   ]
  },
  {
   "cell_type": "markdown",
   "metadata": {},
   "source": [
    "#### HomeAway provided initial descriptions for the data, and after meeting with them, we clarified a few things:  \n",
    "* **id** - unique identifier for a house\n",
    "* **date** - sale date\n",
    "* **price** - (TARGET) - sales price of the property\n",
    "* **bedrooms** -  number of bedrooms per property\n",
    "* **bathrooms** -  number of of bathrooms per property\n",
    "* **sqft_living** -  total living area in square feet\n",
    "* **sqft_lot** -  total area of the lot in square feet\n",
    "* **floors** -  floors (levels) in the property\n",
    "* **waterfront** - property with a view to a waterfront. Null values imply it is unknown.\n",
    "* **view** - number of \"interesting\" views from the property.\" Null values imply it is unknown.\n",
    "* **condition** - overall condition rating given to the property \n",
    "* **grade** - based on the King County glossary, this is the \"classification by construction quality which refers to the types of materials used and the quality of workmanship.\"\n",
    "* **sqft_above** - total living area apart from basement in square feet\n",
    "* **sqft_basement** - total area of the basement. 0 values imply there is no basement.\n",
    "* **yr_built** - year the property was built\n",
    "* **yr_renovated** - year the property was renovated. Null values imply it was never renovated.\n",
    "* **zipcode** - zipcode of property\n",
    "* **lat** - latitude coordinate of property\n",
    "* **long** - longitude coordinate of property\n",
    "* **sqft_living15** - total living area for the nearest 15 neighboring properties in square feet\n",
    "* **sqft_lot15** - total area of the lots of the nearest 15 neighboring properties"
   ]
  },
  {
   "cell_type": "markdown",
   "metadata": {},
   "source": [
    "## Data Preparation"
   ]
  },
  {
   "cell_type": "code",
   "execution_count": null,
   "metadata": {},
   "outputs": [],
   "source": [
    "kc_df.info()"
   ]
  },
  {
   "cell_type": "code",
   "execution_count": null,
   "metadata": {},
   "outputs": [],
   "source": [
    "#change the date column objects to be datetime entries\n",
    "kc_df.date = pd.to_datetime(kc_df.date, format='%m/%d/%Y')"
   ]
  },
  {
   "cell_type": "code",
   "execution_count": null,
   "metadata": {
    "scrolled": false
   },
   "outputs": [],
   "source": [
    "kc_df['sqft_basement'].unique()"
   ]
  },
  {
   "cell_type": "code",
   "execution_count": null,
   "metadata": {},
   "outputs": [],
   "source": [
    "#convert basement values to numbers with any errors becoming null values \n",
    "kc_df['sqft_basement'] = pd.to_numeric(kc_df['sqft_basement'], errors='coerce')"
   ]
  },
  {
   "cell_type": "code",
   "execution_count": null,
   "metadata": {
    "scrolled": false
   },
   "outputs": [],
   "source": [
    "#investigate null value locations\n",
    "kc_df.isna().sum()"
   ]
  },
  {
   "cell_type": "markdown",
   "metadata": {},
   "source": [
    "These columns are expected to have null values."
   ]
  },
  {
   "cell_type": "code",
   "execution_count": null,
   "metadata": {},
   "outputs": [],
   "source": [
    "kc_df.info()"
   ]
  },
  {
   "cell_type": "markdown",
   "metadata": {},
   "source": [
    "## Data Preparation \n",
    "The season of sale may influence the price. "
   ]
  },
  {
   "cell_type": "code",
   "execution_count": null,
   "metadata": {},
   "outputs": [],
   "source": [
    "import datetime\n",
    "def find_date(dates):\n",
    "    \"\"\"Convert the date to a day number where Jan 1 = 0 and Dec 31 = 365\"\"\"\n",
    "    output = []\n",
    "    for date in dates: \n",
    "        day_of_year = (date - datetime.datetime(date.year, 1, 1)).days + 1\n",
    "        output.append(day_of_year)\n",
    "    return output"
   ]
  },
  {
   "cell_type": "code",
   "execution_count": null,
   "metadata": {},
   "outputs": [],
   "source": [
    "#change the dates to numbers since the year doesn't matter in our business context \n",
    "date_series = pd.Series(find_date(kc_df['date']))"
   ]
  },
  {
   "cell_type": "code",
   "execution_count": null,
   "metadata": {},
   "outputs": [],
   "source": [
    "#drop the original date column from our dataframe\n",
    "kc_df = kc_df.drop([\"date\"], axis=1)"
   ]
  },
  {
   "cell_type": "code",
   "execution_count": null,
   "metadata": {},
   "outputs": [],
   "source": [
    "#bucket the year into seasons\n",
    "season_days = dict(\n",
    "    winter=set(range(1,80)).union(set(range(352,367))),\n",
    "    spring=set(range(80,171)),\n",
    "    summer=set(range(171,264)),\n",
    "    autumn=set(range(264,352)),\n",
    "                   )"
   ]
  },
  {
   "cell_type": "code",
   "execution_count": null,
   "metadata": {},
   "outputs": [],
   "source": [
    "def find_season(days_from_jan1):\n",
    "    \"\"\"Return the season as a string\"\"\"\n",
    "    for season, days in season_days.items():\n",
    "        if days_from_jan1 in days:\n",
    "            return season"
   ]
  },
  {
   "cell_type": "code",
   "execution_count": null,
   "metadata": {},
   "outputs": [],
   "source": [
    "#change the numbers to seasons\n",
    "date_series = date_series.apply(find_season)"
   ]
  },
  {
   "cell_type": "code",
   "execution_count": null,
   "metadata": {},
   "outputs": [],
   "source": [
    "#add the season column to the dataframe \n",
    "kc_df = pd.concat([kc_df, date_series], axis =1)\n",
    "kc_df.rename(columns={0:'season'}, \n",
    "                 inplace=True) "
   ]
  },
  {
   "cell_type": "code",
   "execution_count": null,
   "metadata": {},
   "outputs": [],
   "source": [
    "#replace the season names with numbers that rank the popular seasons as higher \n",
    "kc_df.loc[kc_df[\"season\"]=='spring','season'] = 4\n",
    "kc_df.loc[kc_df[\"season\"]=='summer','season'] = 2\n",
    "kc_df.loc[kc_df[\"season\"]=='autumn','season'] = 3\n",
    "kc_df.loc[kc_df[\"season\"]=='winter','season'] = 1\n",
    "kc_df['season'].head()"
   ]
  },
  {
   "cell_type": "markdown",
   "metadata": {},
   "source": [
    "Change the waterfront type to a categorical variable. Use dummy variables to append two dummy variable columns to the end of the dataframe. "
   ]
  },
  {
   "cell_type": "code",
   "execution_count": null,
   "metadata": {
    "scrolled": true
   },
   "outputs": [],
   "source": [
    "water_series = pd.Series(kc_df.waterfront)\n",
    "kc_df['waterfront'] = water_series.astype('category')"
   ]
  },
  {
   "cell_type": "code",
   "execution_count": null,
   "metadata": {
    "scrolled": false
   },
   "outputs": [],
   "source": [
    "kc_df = pd.get_dummies(kc_df)\n",
    "#rename waterfront 1.0 to waterfront\n",
    "kc_df = kc_df.rename(columns={\"waterfront_1.0\": \"waterfront\"})\n",
    "\n",
    "#drop the null and zero values column\n",
    "kc_df = kc_df.drop(['waterfront_0.0'], axis=1) \n",
    "\n",
    "kc_df.head().T"
   ]
  },
  {
   "cell_type": "markdown",
   "metadata": {},
   "source": [
    "#### Investigate location and proximity to other locations as a feature that influences price. \n",
    "Combine latitude and longitude into one feature."
   ]
  },
  {
   "cell_type": "code",
   "execution_count": null,
   "metadata": {},
   "outputs": [],
   "source": [
    "coords = tuple(zip(kc_df.loc[:,'lat'], kc_df.loc[:,'long']))\n",
    "coordinates = pd.Series(coords)\n",
    "kc_df['coordinates'] = coordinates"
   ]
  },
  {
   "cell_type": "markdown",
   "metadata": {},
   "source": [
    "If the property is near an \"expensive area,\" its location may affect the price of the home. See how zipcode and price of the home are related as well as any outliers we may be dealing with."
   ]
  },
  {
   "cell_type": "code",
   "execution_count": null,
   "metadata": {
    "scrolled": true
   },
   "outputs": [],
   "source": [
    "kc_df.plot(kind=\"scatter\", x=\"zipcode\", y=\"price\", alpha=0.8, figsize=(15,10))\n",
    "plt.tight_layout"
   ]
  },
  {
   "cell_type": "markdown",
   "metadata": {},
   "source": [
    "If the property is near an \"expensive area,\" its location may affect the price of the home. To find \"expensive areas,\" look at median home value (as opposed to mean, thus lessening outliers' effects and gearing our eventual model more towards the HomeAway use case) grouped by zipcodes:"
   ]
  },
  {
   "cell_type": "code",
   "execution_count": null,
   "metadata": {},
   "outputs": [],
   "source": [
    "#isolate the price and zipcodes into a dataframe\n",
    "price_zips_df = kc_df[['price','zipcode']]"
   ]
  },
  {
   "cell_type": "code",
   "execution_count": null,
   "metadata": {},
   "outputs": [],
   "source": [
    "#view the median home price by zipcode \n",
    "median_zip_prices_df = price_zips_df.groupby(['zipcode']).median()"
   ]
  },
  {
   "cell_type": "code",
   "execution_count": null,
   "metadata": {
    "scrolled": true
   },
   "outputs": [],
   "source": [
    "#sort those values and see the most expensive median home values \n",
    "median_zip_prices_df.sort_values(by=['price']).tail(20)"
   ]
  },
  {
   "cell_type": "markdown",
   "metadata": {},
   "source": [
    "The priciest median home zipcodes are near these areas:\n",
    "\n",
    "_Note: We checked this using Google Maps by hand due to time, but would like to have used other tools to do this._"
   ]
  },
  {
   "cell_type": "code",
   "execution_count": null,
   "metadata": {},
   "outputs": [],
   "source": [
    "#Mia: put these into a dictionary \n",
    "downtown_seattle = (47.612476, -122.331772)\n",
    "downtown_bellevue = (47.617382, -122.188503)\n",
    "pine_lake = (47.587821, -122.034408)\n",
    "magnolia = (47.649777, -122.399839)\n",
    "woodinville = (47.757905, -122.049466)\n",
    "kirkland = (47.676908, -122.192552)\n",
    "tiger_mtn = (47.498987, -121.959350)\n",
    "issaquah = (47.558402, -122.007307)\n",
    "redmond = (47.659389, -122.056730)"
   ]
  },
  {
   "cell_type": "markdown",
   "metadata": {},
   "source": [
    "Create columns for the distance from these areas. We use haversine, which assumes the earth is a perfect sphere. This is fine for our purposes since the distances are not very large."
   ]
  },
  {
   "cell_type": "code",
   "execution_count": null,
   "metadata": {},
   "outputs": [],
   "source": [
    "from haversine import haversine \n",
    "\n",
    "dt_seattle_mi = []\n",
    "for row in kc_df.coordinates:\n",
    "    a = haversine(row, downtown_seattle, unit='mi')\n",
    "    dt_seattle_mi.append(a) \n",
    "kc_df['seattle_dist'] = dt_seattle_mi\n",
    "#Mia: rewrite this function so outputs a dictionary (and input is the above dictionary)   \n",
    "\n",
    "dt_bellevue_mi = []\n",
    "for row in kc_df.coordinates:\n",
    "    a = haversine(row, downtown_bellevue, unit='mi')\n",
    "    dt_bellevue_mi.append(a)\n",
    "kc_df['bellevue_dist'] = dt_bellevue_mi\n",
    "\n",
    "pine_lake_mi = []\n",
    "for row in kc_df.coordinates:\n",
    "    a = haversine(row, pine_lake, unit='mi')\n",
    "    pine_lake_mi.append(a)\n",
    "kc_df['pine_lake_dist'] = pine_lake_mi\n",
    "\n",
    "magnolia_mi = []\n",
    "for row in kc_df.coordinates:\n",
    "    a = haversine(row, magnolia, unit='mi')\n",
    "    magnolia_mi.append(a)\n",
    "kc_df['magnolia_dist'] = magnolia_mi\n",
    "\n",
    "woodinville_mi = []\n",
    "for row in kc_df.coordinates:\n",
    "    a = haversine(row, woodinville, unit='mi')\n",
    "    woodinville_mi.append(a)\n",
    "kc_df['woodinville_dist'] = woodinville_mi\n",
    "\n",
    "kirkland_mi = []\n",
    "for row in kc_df.coordinates:\n",
    "    a = haversine(row, kirkland, unit='mi')\n",
    "    kirkland_mi.append(a)\n",
    "kc_df['kirkland_dist'] = kirkland_mi\n",
    "\n",
    "tiger_mtn_mi = []\n",
    "for row in kc_df.coordinates:\n",
    "    a = haversine(row, tiger_mtn, unit='mi')\n",
    "    tiger_mtn_mi.append(a)\n",
    "kc_df['tiger_mtn_dist'] = tiger_mtn_mi\n",
    "\n",
    "issaquah_mi = []\n",
    "for row in kc_df.coordinates:\n",
    "    a = haversine(row, issaquah, unit='mi')\n",
    "    issaquah_mi.append(a)\n",
    "kc_df['issaquah_dist'] = issaquah_mi\n",
    "\n",
    "redmond_mi = []\n",
    "for row in kc_df.coordinates:\n",
    "    a = haversine(row, redmond, unit='mi')\n",
    "    redmond_mi.append(a)\n",
    "kc_df['redmond_dist'] = redmond_mi"
   ]
  },
  {
   "cell_type": "markdown",
   "metadata": {},
   "source": [
    "Create columns that group these areas together based on commerce vs. residential/recreational appeal. Hypothesis: Proximity to large commerce centers has a more widespread effect than proximity to residential/recreational centers."
   ]
  },
  {
   "cell_type": "code",
   "execution_count": null,
   "metadata": {},
   "outputs": [],
   "source": [
    "#create a column of distances (mi) to the nearest the commerce center\n",
    "comm_distances = kc_df[['seattle_dist', 'bellevue_dist', 'redmond_dist']].min(axis=1)\n",
    "kc_df['comm_dist'] = comm_distances"
   ]
  },
  {
   "cell_type": "code",
   "execution_count": null,
   "metadata": {},
   "outputs": [],
   "source": [
    "#create a column of distances (mi) to the nearest center of any type \n",
    "center_distances= kc_df[['seattle_dist', 'bellevue_dist', 'pine_lake_dist',\n",
    "       'magnolia_dist', 'woodinville_dist', 'kirkland_dist', 'tiger_mtn_dist',\n",
    "       'issaquah_dist', 'redmond_dist']].min(axis=1)\n",
    "kc_df['center_dist'] = center_distances\n",
    "kc_df.head().T"
   ]
  },
  {
   "cell_type": "markdown",
   "metadata": {},
   "source": [
    "#### Investigate quality of property as a feature that influences price\n",
    "Find the area per room in square feet. Hypothesis: Total area of the home in combination with the number of bathroom and bedrooms will be a better price predictor than the individual features separately. \n"
   ]
  },
  {
   "cell_type": "code",
   "execution_count": null,
   "metadata": {},
   "outputs": [],
   "source": [
    "kc_df['sqft_per_room'] = kc_df['sqft_living']/(kc_df['bedrooms']+kc_df['bathrooms'])"
   ]
  },
  {
   "cell_type": "markdown",
   "metadata": {},
   "source": [
    "Create a new feature that combines grade, view, waterfront, and condition. Hypothesis: A single \"appeal\" feature will be a better price predictor than individual features. "
   ]
  },
  {
   "cell_type": "code",
   "execution_count": null,
   "metadata": {
    "scrolled": true
   },
   "outputs": [],
   "source": [
    "#import necessary library to use a standardscaler\n",
    "from sklearn.preprocessing import StandardScaler\n",
    "\n",
    "#scale the features\n",
    "ss = StandardScaler()\n",
    "kc_looks_std = kc_df[['grade', 'view', 'waterfront', 'condition']]\n",
    "kc_looks_std = pd.DataFrame(ss.fit_transform(kc_looks_std),\n",
    "                          columns = ['grade_std', 'view_std', 'waterfront_std', \n",
    "                                      'condition_std'])\n",
    "    \n",
    "kc_looks_std.head()"
   ]
  },
  {
   "cell_type": "code",
   "execution_count": null,
   "metadata": {},
   "outputs": [],
   "source": [
    "#the warning is just letting us know that our numbers were converted to integers, which is fine"
   ]
  },
  {
   "cell_type": "code",
   "execution_count": null,
   "metadata": {},
   "outputs": [],
   "source": [
    "#create a formula to relate these values\n",
    "#Mia: add detail WHY we did this! \n",
    "kc_df['appeal_std']= kc_looks_std.apply(lambda x: 4*x['grade_std'] + \n",
    "                                          x['view_std'] + 2*x['waterfront_std'] + \n",
    "                                          x['condition_std'],axis= 1)\n",
    "kc_df.info()"
   ]
  },
  {
   "cell_type": "code",
   "execution_count": null,
   "metadata": {},
   "outputs": [],
   "source": [
    "#drop the rows where appeal is null\n",
    "kc_df = kc_df.loc[~kc_df['appeal_std'].isna(), :]"
   ]
  },
  {
   "cell_type": "code",
   "execution_count": null,
   "metadata": {
    "scrolled": true
   },
   "outputs": [],
   "source": [
    "#drop redundant or columns we aren't going to use \n",
    "kc_df = kc_df.drop(['id', 'lat', 'long', 'sqft_living', 'bedrooms', 'bathrooms', 'coordinates',\n",
    "                    'sqft_basement', 'zipcode', 'yr_renovated'], axis=1) "
   ]
  },
  {
   "cell_type": "code",
   "execution_count": 1,
   "metadata": {},
   "outputs": [
    {
     "ename": "NameError",
     "evalue": "name 'kc_df' is not defined",
     "output_type": "error",
     "traceback": [
      "\u001b[0;31m---------------------------------------------------------------------------\u001b[0m",
      "\u001b[0;31mNameError\u001b[0m                                 Traceback (most recent call last)",
      "\u001b[0;32m<ipython-input-1-990f36afe87d>\u001b[0m in \u001b[0;36m<module>\u001b[0;34m\u001b[0m\n\u001b[1;32m      1\u001b[0m \u001b[0;31m#view histograms of the features to visualize their distributions\u001b[0m\u001b[0;34m\u001b[0m\u001b[0;34m\u001b[0m\u001b[0;34m\u001b[0m\u001b[0m\n\u001b[0;32m----> 2\u001b[0;31m \u001b[0mkc_df\u001b[0m\u001b[0;34m.\u001b[0m\u001b[0mhist\u001b[0m\u001b[0;34m(\u001b[0m\u001b[0mfigsize\u001b[0m\u001b[0;34m=\u001b[0m\u001b[0;34m(\u001b[0m\u001b[0;36m15\u001b[0m\u001b[0;34m,\u001b[0m\u001b[0;36m12\u001b[0m\u001b[0;34m)\u001b[0m\u001b[0;34m)\u001b[0m\u001b[0;34m\u001b[0m\u001b[0;34m\u001b[0m\u001b[0m\n\u001b[0m\u001b[1;32m      3\u001b[0m \u001b[0mplt\u001b[0m\u001b[0;34m.\u001b[0m\u001b[0mtight_layout\u001b[0m\u001b[0;34m\u001b[0m\u001b[0;34m\u001b[0m\u001b[0m\n",
      "\u001b[0;31mNameError\u001b[0m: name 'kc_df' is not defined"
     ]
    }
   ],
   "source": [
    "#view histograms of the features to visualize their distributions\n",
    "kc_df.hist(figsize=(15,12))\n",
    "plt.tight_layout"
   ]
  },
  {
   "cell_type": "code",
   "execution_count": 36,
   "metadata": {},
   "outputs": [],
   "source": [
    "#log price to normalize it \n",
    "price_log = np.log(kc_df['price'])\n",
    "price_log = pd.Series(price_log)\n",
    "kc_df['price_log'] = price_log\n",
    "kc_df = kc_df.drop('price', axis = 1)"
   ]
  },
  {
   "cell_type": "code",
   "execution_count": 37,
   "metadata": {},
   "outputs": [
    {
     "data": {
      "text/html": [
       "<div>\n",
       "<style scoped>\n",
       "    .dataframe tbody tr th:only-of-type {\n",
       "        vertical-align: middle;\n",
       "    }\n",
       "\n",
       "    .dataframe tbody tr th {\n",
       "        vertical-align: top;\n",
       "    }\n",
       "\n",
       "    .dataframe thead th {\n",
       "        text-align: right;\n",
       "    }\n",
       "</style>\n",
       "<table border=\"1\" class=\"dataframe\">\n",
       "  <thead>\n",
       "    <tr style=\"text-align: right;\">\n",
       "      <th></th>\n",
       "      <th>count</th>\n",
       "      <th>mean</th>\n",
       "      <th>std</th>\n",
       "      <th>min</th>\n",
       "      <th>25%</th>\n",
       "    </tr>\n",
       "  </thead>\n",
       "  <tbody>\n",
       "    <tr>\n",
       "      <th>sqft_lot</th>\n",
       "      <td>21534.0</td>\n",
       "      <td>15090.596359</td>\n",
       "      <td>41380.209856</td>\n",
       "      <td>520.000000</td>\n",
       "      <td>5040.000000</td>\n",
       "    </tr>\n",
       "    <tr>\n",
       "      <th>floors</th>\n",
       "      <td>21534.0</td>\n",
       "      <td>1.494126</td>\n",
       "      <td>0.539806</td>\n",
       "      <td>1.000000</td>\n",
       "      <td>1.000000</td>\n",
       "    </tr>\n",
       "    <tr>\n",
       "      <th>view</th>\n",
       "      <td>21534.0</td>\n",
       "      <td>0.233863</td>\n",
       "      <td>0.765686</td>\n",
       "      <td>0.000000</td>\n",
       "      <td>0.000000</td>\n",
       "    </tr>\n",
       "    <tr>\n",
       "      <th>condition</th>\n",
       "      <td>21534.0</td>\n",
       "      <td>3.409724</td>\n",
       "      <td>0.650654</td>\n",
       "      <td>1.000000</td>\n",
       "      <td>3.000000</td>\n",
       "    </tr>\n",
       "    <tr>\n",
       "      <th>grade</th>\n",
       "      <td>21534.0</td>\n",
       "      <td>7.657425</td>\n",
       "      <td>1.172643</td>\n",
       "      <td>3.000000</td>\n",
       "      <td>7.000000</td>\n",
       "    </tr>\n",
       "    <tr>\n",
       "      <th>sqft_above</th>\n",
       "      <td>21534.0</td>\n",
       "      <td>1788.557537</td>\n",
       "      <td>827.745641</td>\n",
       "      <td>370.000000</td>\n",
       "      <td>1190.000000</td>\n",
       "    </tr>\n",
       "    <tr>\n",
       "      <th>yr_built</th>\n",
       "      <td>21534.0</td>\n",
       "      <td>1971.002275</td>\n",
       "      <td>29.376044</td>\n",
       "      <td>1900.000000</td>\n",
       "      <td>1951.000000</td>\n",
       "    </tr>\n",
       "    <tr>\n",
       "      <th>sqft_living15</th>\n",
       "      <td>21534.0</td>\n",
       "      <td>1986.299944</td>\n",
       "      <td>685.121001</td>\n",
       "      <td>399.000000</td>\n",
       "      <td>1490.000000</td>\n",
       "    </tr>\n",
       "    <tr>\n",
       "      <th>sqft_lot15</th>\n",
       "      <td>21534.0</td>\n",
       "      <td>12751.079502</td>\n",
       "      <td>27255.483308</td>\n",
       "      <td>651.000000</td>\n",
       "      <td>5100.000000</td>\n",
       "    </tr>\n",
       "    <tr>\n",
       "      <th>season</th>\n",
       "      <td>21534.0</td>\n",
       "      <td>2.670846</td>\n",
       "      <td>1.094371</td>\n",
       "      <td>1.000000</td>\n",
       "      <td>2.000000</td>\n",
       "    </tr>\n",
       "    <tr>\n",
       "      <th>waterfront</th>\n",
       "      <td>21534.0</td>\n",
       "      <td>0.006734</td>\n",
       "      <td>0.081783</td>\n",
       "      <td>0.000000</td>\n",
       "      <td>0.000000</td>\n",
       "    </tr>\n",
       "    <tr>\n",
       "      <th>seattle_dist</th>\n",
       "      <td>21534.0</td>\n",
       "      <td>11.508252</td>\n",
       "      <td>6.739315</td>\n",
       "      <td>0.735965</td>\n",
       "      <td>5.981566</td>\n",
       "    </tr>\n",
       "    <tr>\n",
       "      <th>bellevue_dist</th>\n",
       "      <td>21534.0</td>\n",
       "      <td>10.889583</td>\n",
       "      <td>5.749859</td>\n",
       "      <td>0.339904</td>\n",
       "      <td>7.056722</td>\n",
       "    </tr>\n",
       "    <tr>\n",
       "      <th>pine_lake_dist</th>\n",
       "      <td>21534.0</td>\n",
       "      <td>13.342348</td>\n",
       "      <td>5.502310</td>\n",
       "      <td>0.096342</td>\n",
       "      <td>9.373443</td>\n",
       "    </tr>\n",
       "    <tr>\n",
       "      <th>magnolia_dist</th>\n",
       "      <td>21534.0</td>\n",
       "      <td>13.635433</td>\n",
       "      <td>7.875783</td>\n",
       "      <td>0.057329</td>\n",
       "      <td>7.327143</td>\n",
       "    </tr>\n",
       "    <tr>\n",
       "      <th>woodinville_dist</th>\n",
       "      <td>21534.0</td>\n",
       "      <td>17.764350</td>\n",
       "      <td>8.008083</td>\n",
       "      <td>0.080276</td>\n",
       "      <td>12.345362</td>\n",
       "    </tr>\n",
       "    <tr>\n",
       "      <th>kirkland_dist</th>\n",
       "      <td>21534.0</td>\n",
       "      <td>12.176032</td>\n",
       "      <td>7.235608</td>\n",
       "      <td>0.168782</td>\n",
       "      <td>6.972598</td>\n",
       "    </tr>\n",
       "    <tr>\n",
       "      <th>tiger_mtn_dist</th>\n",
       "      <td>21534.0</td>\n",
       "      <td>16.207938</td>\n",
       "      <td>5.560686</td>\n",
       "      <td>2.013833</td>\n",
       "      <td>11.582647</td>\n",
       "    </tr>\n",
       "    <tr>\n",
       "      <th>issaquah_dist</th>\n",
       "      <td>21534.0</td>\n",
       "      <td>14.087046</td>\n",
       "      <td>5.387643</td>\n",
       "      <td>0.229593</td>\n",
       "      <td>10.490527</td>\n",
       "    </tr>\n",
       "    <tr>\n",
       "      <th>redmond_dist</th>\n",
       "      <td>21534.0</td>\n",
       "      <td>13.875108</td>\n",
       "      <td>6.531069</td>\n",
       "      <td>0.134760</td>\n",
       "      <td>9.109706</td>\n",
       "    </tr>\n",
       "    <tr>\n",
       "      <th>comm_dist</th>\n",
       "      <td>21534.0</td>\n",
       "      <td>8.889864</td>\n",
       "      <td>6.280836</td>\n",
       "      <td>0.134760</td>\n",
       "      <td>4.365773</td>\n",
       "    </tr>\n",
       "    <tr>\n",
       "      <th>center_dist</th>\n",
       "      <td>21534.0</td>\n",
       "      <td>6.769931</td>\n",
       "      <td>5.406705</td>\n",
       "      <td>0.057329</td>\n",
       "      <td>2.828187</td>\n",
       "    </tr>\n",
       "    <tr>\n",
       "      <th>sqft_per_room</th>\n",
       "      <td>21534.0</td>\n",
       "      <td>372.695256</td>\n",
       "      <td>103.316648</td>\n",
       "      <td>46.618705</td>\n",
       "      <td>298.947368</td>\n",
       "    </tr>\n",
       "    <tr>\n",
       "      <th>appeal_std</th>\n",
       "      <td>21534.0</td>\n",
       "      <td>-0.002477</td>\n",
       "      <td>5.076073</td>\n",
       "      <td>-16.646711</td>\n",
       "      <td>-3.343623</td>\n",
       "    </tr>\n",
       "    <tr>\n",
       "      <th>price_log</th>\n",
       "      <td>21534.0</td>\n",
       "      <td>13.048040</td>\n",
       "      <td>0.526307</td>\n",
       "      <td>11.264464</td>\n",
       "      <td>12.682307</td>\n",
       "    </tr>\n",
       "  </tbody>\n",
       "</table>\n",
       "</div>"
      ],
      "text/plain": [
       "                    count          mean           std          min  \\\n",
       "sqft_lot          21534.0  15090.596359  41380.209856   520.000000   \n",
       "floors            21534.0      1.494126      0.539806     1.000000   \n",
       "view              21534.0      0.233863      0.765686     0.000000   \n",
       "condition         21534.0      3.409724      0.650654     1.000000   \n",
       "grade             21534.0      7.657425      1.172643     3.000000   \n",
       "sqft_above        21534.0   1788.557537    827.745641   370.000000   \n",
       "yr_built          21534.0   1971.002275     29.376044  1900.000000   \n",
       "sqft_living15     21534.0   1986.299944    685.121001   399.000000   \n",
       "sqft_lot15        21534.0  12751.079502  27255.483308   651.000000   \n",
       "season            21534.0      2.670846      1.094371     1.000000   \n",
       "waterfront        21534.0      0.006734      0.081783     0.000000   \n",
       "seattle_dist      21534.0     11.508252      6.739315     0.735965   \n",
       "bellevue_dist     21534.0     10.889583      5.749859     0.339904   \n",
       "pine_lake_dist    21534.0     13.342348      5.502310     0.096342   \n",
       "magnolia_dist     21534.0     13.635433      7.875783     0.057329   \n",
       "woodinville_dist  21534.0     17.764350      8.008083     0.080276   \n",
       "kirkland_dist     21534.0     12.176032      7.235608     0.168782   \n",
       "tiger_mtn_dist    21534.0     16.207938      5.560686     2.013833   \n",
       "issaquah_dist     21534.0     14.087046      5.387643     0.229593   \n",
       "redmond_dist      21534.0     13.875108      6.531069     0.134760   \n",
       "comm_dist         21534.0      8.889864      6.280836     0.134760   \n",
       "center_dist       21534.0      6.769931      5.406705     0.057329   \n",
       "sqft_per_room     21534.0    372.695256    103.316648    46.618705   \n",
       "appeal_std        21534.0     -0.002477      5.076073   -16.646711   \n",
       "price_log         21534.0     13.048040      0.526307    11.264464   \n",
       "\n",
       "                          25%  \n",
       "sqft_lot          5040.000000  \n",
       "floors               1.000000  \n",
       "view                 0.000000  \n",
       "condition            3.000000  \n",
       "grade                7.000000  \n",
       "sqft_above        1190.000000  \n",
       "yr_built          1951.000000  \n",
       "sqft_living15     1490.000000  \n",
       "sqft_lot15        5100.000000  \n",
       "season               2.000000  \n",
       "waterfront           0.000000  \n",
       "seattle_dist         5.981566  \n",
       "bellevue_dist        7.056722  \n",
       "pine_lake_dist       9.373443  \n",
       "magnolia_dist        7.327143  \n",
       "woodinville_dist    12.345362  \n",
       "kirkland_dist        6.972598  \n",
       "tiger_mtn_dist      11.582647  \n",
       "issaquah_dist       10.490527  \n",
       "redmond_dist         9.109706  \n",
       "comm_dist            4.365773  \n",
       "center_dist          2.828187  \n",
       "sqft_per_room      298.947368  \n",
       "appeal_std          -3.343623  \n",
       "price_log           12.682307  "
      ]
     },
     "execution_count": 37,
     "metadata": {},
     "output_type": "execute_result"
    }
   ],
   "source": [
    "#Find the statistical description of the features.\n",
    "kc_df.describe().head().T"
   ]
  },
  {
   "cell_type": "code",
   "execution_count": 38,
   "metadata": {},
   "outputs": [
    {
     "data": {
      "text/plain": [
       "<module 'matplotlib.tight_layout' from '/Users/tjjj/anaconda3/lib/python3.7/site-packages/matplotlib/tight_layout.py'>"
      ]
     },
     "execution_count": 38,
     "metadata": {},
     "output_type": "execute_result"
    },
    {
     "data": {
      "image/png": "[encoded data removed]",
      "text/plain": [
       "<Figure size 432x288 with 2 Axes>"
      ]
     },
     "metadata": {
      "needs_background": "light"
     },
     "output_type": "display_data"
    }
   ],
   "source": [
    "#make a heatmap to see how these features correlate\n",
    "sns.heatmap(kc_df.corr(), center=0);\n",
    "plt.tight_layout"
   ]
  },
  {
   "cell_type": "markdown",
   "metadata": {},
   "source": [
    "Some distances are close together, so they have a higher correlation. No features are multicollinear."
   ]
  },
  {
   "cell_type": "markdown",
   "metadata": {},
   "source": [
    "Use sklearn to select which of these features are the best predictors of price."
   ]
  },
  {
   "cell_type": "code",
   "execution_count": 39,
   "metadata": {},
   "outputs": [],
   "source": [
    "#import SelectKBest for feature selection\n",
    "from sklearn.feature_selection import SelectKBest\n",
    "from sklearn.feature_selection import f_classif"
   ]
  },
  {
   "cell_type": "code",
   "execution_count": 40,
   "metadata": {},
   "outputs": [],
   "source": [
    "#set y to the target and X to all other features except target \n",
    "y = np.ravel(kc_df[[\"price_log\"]])\n",
    "X = kc_df.drop([\"price_log\"], axis=1)"
   ]
  },
  {
   "cell_type": "code",
   "execution_count": 41,
   "metadata": {},
   "outputs": [
    {
     "name": "stdout",
     "output_type": "stream",
     "text": [
      "[[   7.            7.            6.        ]\n",
      " [1180.         2170.          770.        ]\n",
      " [1340.         1690.         2720.        ]\n",
      " [   7.81782286    7.52180779    8.58044055]\n",
      " [   7.81782286    6.19315603    4.61472207]\n",
      " [ 295.          489.52380952  256.66666667]\n",
      " [  -3.34362305   -3.34362305   -6.75318131]]\n"
     ]
    }
   ],
   "source": [
    "#select the best price predictor features\n",
    "X_new = SelectKBest(score_func=f_classif,k=7).fit_transform(X, y)\n",
    "#return the first three values of the best 6 features\n",
    "print(X_new[:3].T)"
   ]
  },
  {
   "cell_type": "code",
   "execution_count": 42,
   "metadata": {
    "scrolled": true
   },
   "outputs": [
    {
     "name": "stdout",
     "output_type": "stream",
     "text": [
      "                            0            1             2\n",
      "sqft_lot          5650.000000  7242.000000  10000.000000\n",
      "floors               1.000000     2.000000      1.000000\n",
      "view                 0.000000     0.000000      0.000000\n",
      "condition            3.000000     3.000000      3.000000\n",
      "grade                7.000000     7.000000      6.000000\n",
      "sqft_above        1180.000000  2170.000000    770.000000\n",
      "yr_built          1955.000000  1951.000000   1933.000000\n",
      "sqft_living15     1340.000000  1690.000000   2720.000000\n",
      "sqft_lot15        5650.000000  7639.000000   8062.000000\n",
      "season               3.000000     3.000000      1.000000\n",
      "waterfront           0.000000     0.000000      0.000000\n",
      "seattle_dist         7.817823     7.521808      9.808899\n",
      "bellevue_dist        8.001373     9.387358      8.580441\n",
      "pine_lake_dist      11.652547    16.127943     13.889794\n",
      "magnolia_dist       11.661730     6.193156      9.862826\n",
      "woodinville_dist    19.593891    12.780978      8.637925\n",
      "kirkland_dist       11.836595     6.622375      4.614722\n",
      "tiger_mtn_dist      13.918203    22.714754     20.854751\n",
      "issaquah_dist       12.095620    18.351367     16.253436\n",
      "redmond_dist        13.854335    12.919494      9.829307\n",
      "comm_dist            7.817823     7.521808      8.580441\n",
      "center_dist          7.817823     6.193156      4.614722\n",
      "sqft_per_room      295.000000   489.523810    256.666667\n",
      "appeal_std          -3.343623    -3.343623     -6.753181\n"
     ]
    }
   ],
   "source": [
    "#match the best predictors shown with the column names \n",
    "print(X.head(3).T)"
   ]
  },
  {
   "cell_type": "markdown",
   "metadata": {},
   "source": [
    "Appeal includes grade, so disregarding grade, the \"best\" 6 feature predictors are sqft_above, sqft_living15, comm_dist, center_dist, sqft_per_room, and appeal_std. Use these when modeling the data. "
   ]
  },
  {
   "cell_type": "markdown",
   "metadata": {},
   "source": [
    "## Modeling"
   ]
  },
  {
   "cell_type": "markdown",
   "metadata": {},
   "source": [
    "Create a new dataframe that contains our model predictors and target alone."
   ]
  },
  {
   "cell_type": "code",
   "execution_count": 43,
   "metadata": {},
   "outputs": [],
   "source": [
    "model_df = kc_df[['sqft_above', 'sqft_living15', 'comm_dist', 'center_dist', \n",
    "                  'sqft_per_room', 'appeal_std', 'price_log']] "
   ]
  },
  {
   "cell_type": "markdown",
   "metadata": {},
   "source": [
    "Split the data into a training set and a test set."
   ]
  },
  {
   "cell_type": "code",
   "execution_count": 44,
   "metadata": {},
   "outputs": [],
   "source": [
    "from sklearn.model_selection import train_test_split\n",
    "y = model_df[[\"price_log\"]]\n",
    "X = model_df.drop([\"price_log\"], axis=1)\n",
    "\n",
    "X_train, X_test, y_train, y_test = train_test_split(X, y, test_size = 0.2)\n"
   ]
  },
  {
   "cell_type": "code",
   "execution_count": 45,
   "metadata": {},
   "outputs": [],
   "source": [
    "#import linear regression class \n",
    "from sklearn.linear_model import LinearRegression\n",
    "linreg = LinearRegression()\n",
    "\n",
    "#create the model using our training set \n",
    "linreg.fit(X_train, y_train)\n",
    "\n",
    "#run the model  \n",
    "y_hat_train = linreg.predict(X_train)\n",
    "y_hat_test = linreg.predict(X_test)"
   ]
  },
  {
   "cell_type": "code",
   "execution_count": 46,
   "metadata": {
    "scrolled": true
   },
   "outputs": [
    {
     "data": {
      "text/plain": [
       "0.7727960711942768"
      ]
     },
     "execution_count": 46,
     "metadata": {},
     "output_type": "execute_result"
    }
   ],
   "source": [
    "#peep the model's r-squared\n",
    "linreg.score(X,y)"
   ]
  },
  {
   "cell_type": "code",
   "execution_count": 55,
   "metadata": {},
   "outputs": [
    {
     "data": {
      "text/plain": [
       "array([[ 0.00010771,  0.00010179, -0.0169556 , -0.02713158,  0.00059031,\n",
       "         0.0376671 ]])"
      ]
     },
     "execution_count": 55,
     "metadata": {},
     "output_type": "execute_result"
    }
   ],
   "source": [
    "linreg.coef_"
   ]
  },
  {
   "cell_type": "markdown",
   "metadata": {},
   "source": [
    "### Our final model formula is: \n",
    "\n",
    "Predicted log price = 0.00010771 * (sqft_above) + 0.00010179 * (sqft_living15) - 0.0169556 * (comm_dist) - 0.02713158 * (center_dist) + 0.00059031 * (sqft_per_room) + 0.0376671 * (appeal_std)"
   ]
  },
  {
   "cell_type": "markdown",
   "metadata": {},
   "source": [
    "Some interesesting findings: \n",
    "* The area of one home and the area of the neighbors' homes influence the price about the same. However, the \"area per room\" is more influential than either of those features. \n",
    "* The distance from any \"center\" is doubly influential compared to the distance from the commerce centers when predicting log price, and seven times more influential when predicting price.  "
   ]
  },
  {
   "cell_type": "code",
   "execution_count": 56,
   "metadata": {},
   "outputs": [],
   "source": [
    "#cross-validate results \n",
    "from sklearn.metrics import mean_squared_error\n",
    "from sklearn.model_selection import cross_val_score\n",
    "\n",
    "cv_5_results = np.mean(cross_val_score(linreg, X, y, cv=5, scoring=\"neg_median_absolute_error\"))\n",
    "cv_10_results = np.mean(cross_val_score(linreg, X, y, cv=10, scoring=\"neg_median_absolute_error\"))\n",
    "cv_20_results = np.mean(cross_val_score(linreg, X, y, cv=100, scoring=\"neg_median_absolute_error\"))"
   ]
  },
  {
   "cell_type": "markdown",
   "metadata": {},
   "source": [
    "## Evaluation"
   ]
  },
  {
   "cell_type": "code",
   "execution_count": 57,
   "metadata": {},
   "outputs": [
    {
     "name": "stdout",
     "output_type": "stream",
     "text": [
      "0.15293754672757948 0.15277930406938944 0.15264641826863626\n"
     ]
    }
   ],
   "source": [
    "#view the median aboslute percent error during cross-validation\n",
    "print(abs(cv_5_results), abs(cv_10_results), abs(cv_20_results))"
   ]
  },
  {
   "cell_type": "code",
   "execution_count": 58,
   "metadata": {},
   "outputs": [],
   "source": [
    "def exp_absolute_error(y_actual, y_hat):\n",
    "    \"\"\"Backtransform price_log\"\"\"\n",
    "    return abs(np.exp(y_actual.values)-np.exp(y_hat))/(np.exp(y_actual.values))"
   ]
  },
  {
   "cell_type": "code",
   "execution_count": 59,
   "metadata": {},
   "outputs": [
    {
     "data": {
      "text/plain": [
       "0.14986990238093106"
      ]
     },
     "execution_count": 59,
     "metadata": {},
     "output_type": "execute_result"
    }
   ],
   "source": [
    "#Take the median absolute percent error of our test data.\n",
    "np.median(exp_absolute_error(y_test, y_hat_test))"
   ]
  },
  {
   "cell_type": "markdown",
   "metadata": {},
   "source": [
    "Our median aboslute percent error of our test data set is consistently less than 16%.\n",
    "\n",
    "The success metric, median absolute percent error < 20%, has been met. "
   ]
  },
  {
   "cell_type": "markdown",
   "metadata": {},
   "source": [
    "## Deployment\n",
    "HomeAway will hire us for consulting where they will deploy similarly made models, with lower errors. "
   ]
  }
 ],
 "metadata": {
  "kernelspec": {
   "display_name": "Python 3",
   "language": "python",
   "name": "python3"
  },
  "language_info": {
   "codemirror_mode": {
    "name": "ipython",
    "version": 3
   },
   "file_extension": ".py",
   "mimetype": "text/x-python",
   "name": "python",
   "nbconvert_exporter": "python",
   "pygments_lexer": "ipython3",
   "version": "3.7.3"
  }
 },
 "nbformat": 4,
 "nbformat_minor": 2
}
